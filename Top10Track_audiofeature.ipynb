{
 "cells": [
  {
   "attachments": {},
   "cell_type": "markdown",
   "metadata": {},
   "source": [
    "Spotify API that pulls audio features of artists' top 10 songs"
   ]
  },
  {
   "cell_type": "code",
   "execution_count": 57,
   "metadata": {},
   "outputs": [],
   "source": [
    "from dotenv import load_dotenv\n",
    "import os\n",
    "import base64\n",
    "from requests import post, get\n",
    "import json\n",
    "import pandas as pd"
   ]
  },
  {
   "cell_type": "code",
   "execution_count": 58,
   "metadata": {},
   "outputs": [],
   "source": [
    "load_dotenv()\n",
    "\n",
    "client_id = os.getenv(\"CLIENT_ID\")\n",
    "client_secret = os.getenv(\"CLIENT_SECRET\")"
   ]
  },
  {
   "cell_type": "code",
   "execution_count": 59,
   "metadata": {},
   "outputs": [],
   "source": [
    "def get_token():\n",
    "    auth_string = client_id + \":\" + client_secret\n",
    "    auth_bytes = auth_string.encode(\"utf-8\")\n",
    "    auth_base64 = str(base64.b64encode(auth_bytes),\"utf-8\")\n",
    "\n",
    "    url = \"https://accounts.spotify.com/api/token\"\n",
    "    headers = {\n",
    "        \"Authorization\": \"Basic \" + auth_base64,\n",
    "        \"Content-Type\": \"application/x-www-form-urlencoded\"\n",
    "    }\n",
    "\n",
    "    data = {\"grant_type\": \"client_credentials\"}\n",
    "    result = post(url, headers = headers, data = data)\n",
    "    json_result = json.loads(result.content)\n",
    "    token = json_result[\"access_token\"]\n",
    "    return token"
   ]
  },
  {
   "cell_type": "code",
   "execution_count": 60,
   "metadata": {},
   "outputs": [],
   "source": [
    "def get_auth_header(token):\n",
    "    return {\"Authorization\": \"Bearer \" + token}"
   ]
  },
  {
   "cell_type": "code",
   "execution_count": 61,
   "metadata": {},
   "outputs": [],
   "source": [
    "def search_for_artist(token, artist_name):\n",
    "    url = \"https://api.spotify.com/v1/search\"\n",
    "    headers = get_auth_header(token)\n",
    "    query = f\"?q={artist_name}&type=artist&limit=1\"\n",
    "\n",
    "    query_url = url + query\n",
    "    result = get(query_url, headers=headers)\n",
    "    json_result = json.loads(result.content)[\"artists\"][\"items\"]\n",
    "    \n",
    "    if len(json_result) == 0:\n",
    "            print(\"N/A\")\n",
    "            return None\n",
    "\n",
    "    return json_result[0]"
   ]
  },
  {
   "cell_type": "code",
   "execution_count": 62,
   "metadata": {},
   "outputs": [],
   "source": [
    "def search_for_artist(token, artist_name):\n",
    "    url = \"https://api.spotify.com/v1/search\"\n",
    "    headers = get_auth_header(token)\n",
    "    query = f\"?q={artist_name}&type=artist&limit=1\"\n",
    "\n",
    "    query_url = url + query\n",
    "    result = get(query_url, headers=headers)\n",
    "    json_result = json.loads(result.content)[\"artists\"][\"items\"]\n",
    "    \n",
    "    if len(json_result) == 0:\n",
    "            print(\"N/A\")\n",
    "            return None\n",
    "\n",
    "    return json_result[0]"
   ]
  },
  {
   "cell_type": "code",
   "execution_count": 63,
   "metadata": {},
   "outputs": [],
   "source": [
    "def get_songs_by_artists(token, artist_id, artist_name):\n",
    "    url = f\"https://api.spotify.com/v1/artists/{artist_id}/top-tracks?country=US\"\n",
    "    headers = get_auth_header(token)\n",
    "    result = get(url, headers=headers)\n",
    "    json_result = json.loads(result.content)[\"tracks\"]\n",
    "\n",
    "    track_ids = [track[\"id\"] for track in json_result]\n",
    "    audio_features_url = \"https://api.spotify.com/v1/audio-features\"\n",
    "    audio_features_query = \"?ids=\" + \",\".join(track_ids)\n",
    "    audio_features_headers = get_auth_header(token)\n",
    "    audio_features_result = get(audio_features_url + audio_features_query, headers=audio_features_headers)\n",
    "    audio_features_json_result = json.loads(audio_features_result.content)[\"audio_features\"]\n",
    "    audio_features_map = {audio_feature[\"id\"]: audio_feature for audio_feature in audio_features_json_result}\n",
    "\n",
    "    track_data = []\n",
    "    for idx, track in enumerate(json_result):\n",
    "        track_id = track[\"id\"]\n",
    "        audio_feature = audio_features_map.get(track_id)\n",
    "        if audio_feature:\n",
    "            track.update(audio_feature)\n",
    "        track_data.append({\n",
    "            \"Name\": track['name'],\n",
    "            \"Popularity\": track['popularity'],\n",
    "            \"Danceability\": track['danceability'],\n",
    "            \"Energy\": track['energy'],\n",
    "            \"Key\": track['key'],\n",
    "            \"Loudness\": track['loudness'],\n",
    "            \"Speechiness\": track['speechiness'],\n",
    "            \"Acousticness\": track['acousticness'],\n",
    "            \"Instrumentalness\": track['instrumentalness'],\n",
    "            \"Liveness\": track['liveness'],\n",
    "            \"Valence\": track['valence'],\n",
    "            \"Tempo\": track['tempo']\n",
    "        })\n",
    "\n",
    "    df = pd.DataFrame(json_result)\n",
    "    df = df.loc[:, ['duration_ms', 'name', 'popularity', 'preview_url', 'danceability', 'energy', 'key', 'loudness', 'mode', 'speechiness','instrumentalness', 'acousticness', 'liveness', 'valence', 'tempo', 'time_signature']]\n",
    "    df['artist'] = artist_name\n",
    "    column_order = ['artist', 'name', 'popularity', 'key', 'mode', 'tempo', 'time_signature', 'duration_ms', 'danceability', 'energy', 'loudness', 'speechiness', 'instrumentalness', 'acousticness', 'liveness', 'valence', 'preview_url']\n",
    "    df = df.reindex(columns=column_order)\n",
    "\n",
    "    file_path = r'C:\\Users\\onee5\\Desktop\\Python Projects\\Spotify\\outputs\\{}.csv'.format(artist_name)\n",
    "    df.to_csv(file_path, index=False)\n",
    "    print(f\"Data saved to {file_path}\")"
   ]
  },
  {
   "cell_type": "code",
   "execution_count": 64,
   "metadata": {},
   "outputs": [
    {
     "name": "stdout",
     "output_type": "stream",
     "text": [
      "Data saved to C:\\Users\\onee5\\Desktop\\Python Projects\\Spotify\\outputs\\THE BEATLES.csv\n"
     ]
    }
   ],
   "source": [
    "token = get_token()\n",
    "artist_name = \"THE BEATLES\"\n",
    "result = search_for_artist(token, artist_name)\n",
    "artist_id = result[\"id\"]\n",
    "get_songs_by_artists(token, artist_id, artist_name)"
   ]
  }
 ],
 "metadata": {
  "kernelspec": {
   "display_name": "Python 3",
   "language": "python",
   "name": "python3"
  },
  "language_info": {
   "codemirror_mode": {
    "name": "ipython",
    "version": 3
   },
   "file_extension": ".py",
   "mimetype": "text/x-python",
   "name": "python",
   "nbconvert_exporter": "python",
   "pygments_lexer": "ipython3",
   "version": "3.10.4"
  },
  "orig_nbformat": 4,
  "vscode": {
   "interpreter": {
    "hash": "7f6d4c95d4438e07176eb93d6b035b1e582b17ebe83c2f879207ca3cf4d9d54c"
   }
  }
 },
 "nbformat": 4,
 "nbformat_minor": 2
}
